{
 "cells": [
  {
   "cell_type": "code",
   "execution_count": 1,
   "id": "a79e0d54",
   "metadata": {},
   "outputs": [],
   "source": [
    "# importing dependencies\n",
    "import mysql.connector\n",
    "from mysql.connector import connect\n",
    "from getpass import getpass\n",
    "import pandas as pd\n",
    "import numpy as np\n",
    "from sklearn.model_selection import train_test_split\n",
    "from sklearn.preprocessing import StandardScaler, OneHotEncoder\n",
    "from sklearn.compose import ColumnTransformer\n",
    "from sklearn.linear_model import LinearRegression\n",
    "from sklearn.linear_model import LogisticRegression\n",
    "import seaborn as sns\n",
    "import matplotlib.pyplot as plt\n",
    "from sklearn.metrics import classification_report\n",
    "from sklearn.metrics import confusion_matrix, classification_report\n",
    "from sklearn.tree import DecisionTreeClassifier\n",
    "from sklearn.ensemble import RandomForestClassifier\n"
   ]
  },
  {
   "cell_type": "code",
   "execution_count": 2,
   "id": "bc75d41f",
   "metadata": {},
   "outputs": [
    {
     "name": "stdout",
     "output_type": "stream",
     "text": [
      "Enter password: ········\n"
     ]
    }
   ],
   "source": [
    "# connecting to SQL\n",
    "db = connect(host = \"localhost\",\n",
    "            user = \"root\",\n",
    "            passwd = getpass(\"Enter password: \"),\n",
    "             database = \"sakila\")"
   ]
  },
  {
   "cell_type": "code",
   "execution_count": 3,
   "id": "cecf38ad",
   "metadata": {},
   "outputs": [],
   "source": [
    "# cursor is an instance used to execute sql statements on python\n",
    "cursor = db.cursor(buffered = True)\n",
    "cursor.execute(\"SHOW DATABASES\")"
   ]
  },
  {
   "cell_type": "code",
   "execution_count": 4,
   "id": "21ea0268",
   "metadata": {},
   "outputs": [
    {
     "name": "stdout",
     "output_type": "stream",
     "text": [
      "[('bank',), ('bank_demo',), ('house_price_regression',), ('information_schema',), ('mysql',), ('performance_schema',), ('sakila',), ('sys',)]\n"
     ]
    }
   ],
   "source": [
    "# cursor is an instance used to execute sql statements on python\n",
    "databases = cursor.fetchall()\n",
    "print(databases)"
   ]
  },
  {
   "cell_type": "markdown",
   "id": "d86460f3",
   "metadata": {},
   "source": [
    "#### Ex.1 Create a query or queries to extract the information you think may be relevant for building the prediction model. It should include some film features and some rental features. "
   ]
  },
  {
   "cell_type": "code",
   "execution_count": 5,
   "id": "c0fd4f69",
   "metadata": {},
   "outputs": [],
   "source": [
    " query = \"select r.rental_id, f.film_id, f.title, f.release_year, f.rental_duration, f.rental_rate,f.length, f.replacement_cost, f.rating, r.customer_id, convert(r.rental_date, date) as rental_date,convert(r.return_date,date) as return_date, p.amount,  convert(p.payment_date,date) as payment_date, c.name as category, l.name as language from rental as r join inventory as i on i.inventory_id = r.inventory_id join film as f on f.film_id = i.film_id left join payment as p on p.rental_id = r.rental_id  join film_category as fc on fc.film_id = f.film_id join category as c on c.category_id = fc.category_id join language as l on l.language_id= f.language_id order by r.rental_id asc;\""
   ]
  },
  {
   "cell_type": "code",
   "execution_count": 6,
   "id": "0ac8b1f9",
   "metadata": {},
   "outputs": [],
   "source": [
    "cursor.execute(query)"
   ]
  },
  {
   "cell_type": "code",
   "execution_count": 7,
   "id": "13680729",
   "metadata": {},
   "outputs": [],
   "source": [
    "records = cursor.fetchall"
   ]
  },
  {
   "cell_type": "markdown",
   "id": "0fad807d",
   "metadata": {},
   "source": [
    "#### Ex.2 Read the data into a Pandas dataframe. "
   ]
  },
  {
   "cell_type": "code",
   "execution_count": 8,
   "id": "f531782d",
   "metadata": {},
   "outputs": [
    {
     "name": "stderr",
     "output_type": "stream",
     "text": [
      "C:\\ProgramData\\Anaconda3\\lib\\site-packages\\pandas\\io\\sql.py:761: UserWarning: pandas only support SQLAlchemy connectable(engine/connection) ordatabase string URI or sqlite3 DBAPI2 connectionother DBAPI2 objects are not tested, please consider using SQLAlchemy\n",
      "  warnings.warn(\n"
     ]
    }
   ],
   "source": [
    "df = pd.read_sql_query(query,db) # changing sql data into pandas dataframe"
   ]
  },
  {
   "cell_type": "markdown",
   "id": "a1b04110",
   "metadata": {},
   "source": [
    "#### Ex.3: Analyze extracted features and transform them. You may need to encode some categorical variables, or scale numerical variables. "
   ]
  },
  {
   "cell_type": "code",
   "execution_count": 9,
   "id": "97abe425",
   "metadata": {},
   "outputs": [
    {
     "data": {
      "text/html": [
       "<div>\n",
       "<style scoped>\n",
       "    .dataframe tbody tr th:only-of-type {\n",
       "        vertical-align: middle;\n",
       "    }\n",
       "\n",
       "    .dataframe tbody tr th {\n",
       "        vertical-align: top;\n",
       "    }\n",
       "\n",
       "    .dataframe thead th {\n",
       "        text-align: right;\n",
       "    }\n",
       "</style>\n",
       "<table border=\"1\" class=\"dataframe\">\n",
       "  <thead>\n",
       "    <tr style=\"text-align: right;\">\n",
       "      <th></th>\n",
       "      <th>rental_id</th>\n",
       "      <th>film_id</th>\n",
       "      <th>title</th>\n",
       "      <th>release_year</th>\n",
       "      <th>rental_duration</th>\n",
       "      <th>rental_rate</th>\n",
       "      <th>length</th>\n",
       "      <th>replacement_cost</th>\n",
       "      <th>rating</th>\n",
       "      <th>customer_id</th>\n",
       "      <th>rental_date</th>\n",
       "      <th>return_date</th>\n",
       "      <th>amount</th>\n",
       "      <th>payment_date</th>\n",
       "      <th>category</th>\n",
       "      <th>language</th>\n",
       "    </tr>\n",
       "  </thead>\n",
       "  <tbody>\n",
       "    <tr>\n",
       "      <th>0</th>\n",
       "      <td>1</td>\n",
       "      <td>80</td>\n",
       "      <td>BLANKET BEVERLY</td>\n",
       "      <td>2006</td>\n",
       "      <td>7</td>\n",
       "      <td>2.99</td>\n",
       "      <td>148</td>\n",
       "      <td>21.99</td>\n",
       "      <td>G</td>\n",
       "      <td>130</td>\n",
       "      <td>2005-05-24</td>\n",
       "      <td>2005-05-26</td>\n",
       "      <td>2.99</td>\n",
       "      <td>2005-05-24</td>\n",
       "      <td>Family</td>\n",
       "      <td>English</td>\n",
       "    </tr>\n",
       "    <tr>\n",
       "      <th>1</th>\n",
       "      <td>2</td>\n",
       "      <td>333</td>\n",
       "      <td>FREAKY POCUS</td>\n",
       "      <td>2006</td>\n",
       "      <td>7</td>\n",
       "      <td>2.99</td>\n",
       "      <td>126</td>\n",
       "      <td>16.99</td>\n",
       "      <td>R</td>\n",
       "      <td>459</td>\n",
       "      <td>2005-05-24</td>\n",
       "      <td>2005-05-28</td>\n",
       "      <td>2.99</td>\n",
       "      <td>2005-05-24</td>\n",
       "      <td>Music</td>\n",
       "      <td>English</td>\n",
       "    </tr>\n",
       "    <tr>\n",
       "      <th>2</th>\n",
       "      <td>3</td>\n",
       "      <td>373</td>\n",
       "      <td>GRADUATE LORD</td>\n",
       "      <td>2006</td>\n",
       "      <td>7</td>\n",
       "      <td>2.99</td>\n",
       "      <td>156</td>\n",
       "      <td>14.99</td>\n",
       "      <td>G</td>\n",
       "      <td>408</td>\n",
       "      <td>2005-05-24</td>\n",
       "      <td>2005-06-01</td>\n",
       "      <td>3.99</td>\n",
       "      <td>2005-05-24</td>\n",
       "      <td>Children</td>\n",
       "      <td>English</td>\n",
       "    </tr>\n",
       "    <tr>\n",
       "      <th>3</th>\n",
       "      <td>4</td>\n",
       "      <td>535</td>\n",
       "      <td>LOVE SUICIDES</td>\n",
       "      <td>2006</td>\n",
       "      <td>6</td>\n",
       "      <td>0.99</td>\n",
       "      <td>181</td>\n",
       "      <td>21.99</td>\n",
       "      <td>R</td>\n",
       "      <td>333</td>\n",
       "      <td>2005-05-24</td>\n",
       "      <td>2005-06-03</td>\n",
       "      <td>4.99</td>\n",
       "      <td>2005-05-24</td>\n",
       "      <td>Horror</td>\n",
       "      <td>English</td>\n",
       "    </tr>\n",
       "    <tr>\n",
       "      <th>4</th>\n",
       "      <td>5</td>\n",
       "      <td>450</td>\n",
       "      <td>IDOLS SNATCHERS</td>\n",
       "      <td>2006</td>\n",
       "      <td>5</td>\n",
       "      <td>2.99</td>\n",
       "      <td>84</td>\n",
       "      <td>29.99</td>\n",
       "      <td>NC-17</td>\n",
       "      <td>222</td>\n",
       "      <td>2005-05-24</td>\n",
       "      <td>2005-06-02</td>\n",
       "      <td>6.99</td>\n",
       "      <td>2005-05-24</td>\n",
       "      <td>Children</td>\n",
       "      <td>English</td>\n",
       "    </tr>\n",
       "  </tbody>\n",
       "</table>\n",
       "</div>"
      ],
      "text/plain": [
       "   rental_id  film_id            title  release_year  rental_duration  \\\n",
       "0          1       80  BLANKET BEVERLY          2006                7   \n",
       "1          2      333     FREAKY POCUS          2006                7   \n",
       "2          3      373    GRADUATE LORD          2006                7   \n",
       "3          4      535    LOVE SUICIDES          2006                6   \n",
       "4          5      450  IDOLS SNATCHERS          2006                5   \n",
       "\n",
       "   rental_rate  length  replacement_cost rating  customer_id rental_date  \\\n",
       "0         2.99     148             21.99      G          130  2005-05-24   \n",
       "1         2.99     126             16.99      R          459  2005-05-24   \n",
       "2         2.99     156             14.99      G          408  2005-05-24   \n",
       "3         0.99     181             21.99      R          333  2005-05-24   \n",
       "4         2.99      84             29.99  NC-17          222  2005-05-24   \n",
       "\n",
       "  return_date  amount payment_date  category language  \n",
       "0  2005-05-26    2.99   2005-05-24    Family  English  \n",
       "1  2005-05-28    2.99   2005-05-24     Music  English  \n",
       "2  2005-06-01    3.99   2005-05-24  Children  English  \n",
       "3  2005-06-03    4.99   2005-05-24    Horror  English  \n",
       "4  2005-06-02    6.99   2005-05-24  Children  English  "
      ]
     },
     "execution_count": 9,
     "metadata": {},
     "output_type": "execute_result"
    }
   ],
   "source": [
    "df.head()"
   ]
  },
  {
   "cell_type": "code",
   "execution_count": 10,
   "id": "ba4d526e",
   "metadata": {},
   "outputs": [
    {
     "name": "stdout",
     "output_type": "stream",
     "text": [
      "<class 'pandas.core.frame.DataFrame'>\n",
      "RangeIndex: 16055 entries, 0 to 16054\n",
      "Data columns (total 16 columns):\n",
      " #   Column            Non-Null Count  Dtype  \n",
      "---  ------            --------------  -----  \n",
      " 0   rental_id         16055 non-null  int64  \n",
      " 1   film_id           16055 non-null  int64  \n",
      " 2   title             16055 non-null  object \n",
      " 3   release_year      16055 non-null  int64  \n",
      " 4   rental_duration   16055 non-null  int64  \n",
      " 5   rental_rate       16055 non-null  float64\n",
      " 6   length            16055 non-null  int64  \n",
      " 7   replacement_cost  16055 non-null  float64\n",
      " 8   rating            16055 non-null  object \n",
      " 9   customer_id       16055 non-null  int64  \n",
      " 10  rental_date       16055 non-null  object \n",
      " 11  return_date       15872 non-null  object \n",
      " 12  amount            16044 non-null  float64\n",
      " 13  payment_date      16044 non-null  object \n",
      " 14  category          16055 non-null  object \n",
      " 15  language          16055 non-null  object \n",
      "dtypes: float64(3), int64(6), object(7)\n",
      "memory usage: 2.0+ MB\n"
     ]
    }
   ],
   "source": [
    "df.info() # checking data types of variables."
   ]
  },
  {
   "cell_type": "markdown",
   "id": "73f96189",
   "metadata": {},
   "source": [
    "As clear from info that few of variables such as release_year, rental_date, return_date, payment_date misleading datatype. we can convert their type to date. "
   ]
  },
  {
   "cell_type": "code",
   "execution_count": 11,
   "id": "e7ec4218",
   "metadata": {},
   "outputs": [
    {
     "name": "stdout",
     "output_type": "stream",
     "text": [
      "<class 'pandas.core.frame.DataFrame'>\n",
      "RangeIndex: 16055 entries, 0 to 16054\n",
      "Data columns (total 16 columns):\n",
      " #   Column            Non-Null Count  Dtype         \n",
      "---  ------            --------------  -----         \n",
      " 0   rental_id         16055 non-null  int64         \n",
      " 1   film_id           16055 non-null  int64         \n",
      " 2   title             16055 non-null  object        \n",
      " 3   release_year      16055 non-null  int64         \n",
      " 4   rental_duration   16055 non-null  int64         \n",
      " 5   rental_rate       16055 non-null  float64       \n",
      " 6   length            16055 non-null  int64         \n",
      " 7   replacement_cost  16055 non-null  float64       \n",
      " 8   rating            16055 non-null  object        \n",
      " 9   customer_id       16055 non-null  int64         \n",
      " 10  rental_date       16055 non-null  datetime64[ns]\n",
      " 11  return_date       15872 non-null  datetime64[ns]\n",
      " 12  amount            16044 non-null  float64       \n",
      " 13  payment_date      16044 non-null  datetime64[ns]\n",
      " 14  category          16055 non-null  object        \n",
      " 15  language          16055 non-null  object        \n",
      "dtypes: datetime64[ns](3), float64(3), int64(6), object(4)\n",
      "memory usage: 2.0+ MB\n"
     ]
    }
   ],
   "source": [
    "import datetime as dt \n",
    "\n",
    "df[['rental_date','return_date', 'payment_date']] = df[['rental_date','return_date', 'payment_date']].apply(pd.to_datetime)\n",
    "\n",
    "df.info() # checking whether datatype of dates columns has been changed or not."
   ]
  },
  {
   "cell_type": "markdown",
   "id": "c3b6d8e8",
   "metadata": {},
   "source": []
  },
  {
   "cell_type": "code",
   "execution_count": 12,
   "id": "d898dfda",
   "metadata": {},
   "outputs": [
    {
     "data": {
      "text/plain": [
       "(16055, 16)"
      ]
     },
     "execution_count": 12,
     "metadata": {},
     "output_type": "execute_result"
    }
   ],
   "source": [
    "df.shape"
   ]
  },
  {
   "cell_type": "code",
   "execution_count": 13,
   "id": "00f4fa9f",
   "metadata": {},
   "outputs": [
    {
     "name": "stdout",
     "output_type": "stream",
     "text": [
      "<class 'pandas.core.frame.DataFrame'>\n",
      "RangeIndex: 16055 entries, 0 to 16054\n",
      "Data columns (total 16 columns):\n",
      " #   Column            Non-Null Count  Dtype         \n",
      "---  ------            --------------  -----         \n",
      " 0   rental_id         16055 non-null  int64         \n",
      " 1   film_id           16055 non-null  int64         \n",
      " 2   title             16055 non-null  object        \n",
      " 3   release_year      16055 non-null  int64         \n",
      " 4   rental_duration   16055 non-null  int64         \n",
      " 5   rental_rate       16055 non-null  float64       \n",
      " 6   length            16055 non-null  int64         \n",
      " 7   replacement_cost  16055 non-null  float64       \n",
      " 8   rating            16055 non-null  object        \n",
      " 9   customer_id       16055 non-null  int64         \n",
      " 10  rental_date       16055 non-null  datetime64[ns]\n",
      " 11  return_date       15872 non-null  datetime64[ns]\n",
      " 12  amount            16044 non-null  float64       \n",
      " 13  payment_date      16044 non-null  datetime64[ns]\n",
      " 14  category          16055 non-null  object        \n",
      " 15  language          16055 non-null  object        \n",
      "dtypes: datetime64[ns](3), float64(3), int64(6), object(4)\n",
      "memory usage: 2.0+ MB\n"
     ]
    }
   ],
   "source": [
    "df.info()"
   ]
  },
  {
   "cell_type": "markdown",
   "id": "7078e5f0",
   "metadata": {},
   "source": [
    "#### Ex. 4: Create a query to get the list of films and a boolean indicating if it was rented last month. This would be our target variable."
   ]
  },
  {
   "cell_type": "code",
   "execution_count": 14,
   "id": "4bc2fc44",
   "metadata": {},
   "outputs": [
    {
     "data": {
      "text/plain": [
       "False    13744\n",
       "True      2311\n",
       "Name: june_rentals, dtype: int64"
      ]
     },
     "execution_count": 14,
     "metadata": {},
     "output_type": "execute_result"
    }
   ],
   "source": [
    "# creating boolean based on rental_date\n",
    "df['june_rentals'] = (df['rental_date'] >= '2005-06-01') & (df['rental_date'] < '2005-07-01')\n",
    "df.june_rentals.value_counts()"
   ]
  },
  {
   "cell_type": "code",
   "execution_count": 15,
   "id": "7c460237",
   "metadata": {},
   "outputs": [
    {
     "data": {
      "text/plain": [
       "1    13744\n",
       "0     2311\n",
       "Name: june_rentals, dtype: int64"
      ]
     },
     "execution_count": 15,
     "metadata": {},
     "output_type": "execute_result"
    }
   ],
   "source": [
    "# changing boolean column into binary as we can't apply model on Boolean data.\n",
    "df['june_rentals'] = [1 if b==False else 0 for b in df.june_rentals]\n",
    "df.june_rentals.value_counts()"
   ]
  },
  {
   "cell_type": "markdown",
   "id": "f2944c98",
   "metadata": {},
   "source": [
    "our data is highly imbalance, True(0) class represents rentals made in month of june while the false not for august. True class is just 14% of whole dataset. "
   ]
  },
  {
   "cell_type": "markdown",
   "id": "3a1da61a",
   "metadata": {},
   "source": []
  },
  {
   "cell_type": "code",
   "execution_count": 16,
   "id": "6369554c",
   "metadata": {},
   "outputs": [
    {
     "data": {
      "text/plain": [
       "rental_id             0\n",
       "film_id               0\n",
       "title                 0\n",
       "release_year          0\n",
       "rental_duration       0\n",
       "rental_rate           0\n",
       "length                0\n",
       "replacement_cost      0\n",
       "rating                0\n",
       "customer_id           0\n",
       "rental_date           0\n",
       "return_date         183\n",
       "amount               11\n",
       "payment_date         11\n",
       "category              0\n",
       "language              0\n",
       "june_rentals          0\n",
       "dtype: int64"
      ]
     },
     "execution_count": 16,
     "metadata": {},
     "output_type": "execute_result"
    }
   ],
   "source": [
    "#checking and dealing with nan\n",
    "df.isna().sum()"
   ]
  },
  {
   "cell_type": "code",
   "execution_count": 17,
   "id": "d1b959ef",
   "metadata": {},
   "outputs": [],
   "source": [
    "# columns relating to user_id's and dates does not make much sense for analysis \n",
    "#esp when we dummify them it creates too many columns which raises problem of multicollinearity in dataset, \n",
    "#so we drop them here before removing nans.\n",
    "\n",
    "df.drop(['rental_id','film_id','release_year','customer_id','return_date','payment_date','language'], axis = 1, inplace = True)\n"
   ]
  },
  {
   "cell_type": "code",
   "execution_count": 18,
   "id": "d73bbd62",
   "metadata": {},
   "outputs": [
    {
     "name": "stderr",
     "output_type": "stream",
     "text": [
      "C:\\Users\\s_sad\\AppData\\Local\\Temp\\ipykernel_7100\\2680828957.py:4: DeprecationWarning: `np.object` is a deprecated alias for the builtin `object`. To silence this warning, use `object` by itself. Doing this will not modify any behavior and is safe. \n",
      "Deprecated in NumPy 1.20; for more details and guidance: https://numpy.org/devdocs/release/1.20.0-notes.html#deprecations\n",
      "  cat_data = df.select_dtypes(np.object)\n"
     ]
    }
   ],
   "source": [
    "#removing nan from data using KNNImputer\n",
    "# as we have to apply imputer only on \n",
    "num_data = df.select_dtypes(include = np.number) \n",
    "cat_data = df.select_dtypes(np.object)\n",
    "\n",
    "from sklearn.impute import KNNImputer\n",
    "knn = KNNImputer(n_neighbors=2) # choosing 2 nearst neighbours is completely random. \n",
    "new_num_data=knn.fit_transform(num_data)\n",
    "num_data=pd.DataFrame(new_num_data,columns=num_data.columns)\n",
    "df=pd.merge(cat_data,num_data,left_index=True,right_index=True)"
   ]
  },
  {
   "cell_type": "markdown",
   "id": "dbeeb5bc",
   "metadata": {},
   "source": [
    "KNN imputer has been used instead, as it does not reduce variance of dataset unlike mean. "
   ]
  },
  {
   "cell_type": "code",
   "execution_count": 19,
   "id": "4c341911",
   "metadata": {},
   "outputs": [
    {
     "data": {
      "text/plain": [
       "Index(['title', 'rating', 'category', 'rental_duration', 'rental_rate',\n",
       "       'length', 'replacement_cost', 'amount', 'june_rentals'],\n",
       "      dtype='object')"
      ]
     },
     "execution_count": 19,
     "metadata": {},
     "output_type": "execute_result"
    }
   ],
   "source": [
    "df.columns # in the new dataset, we have not added columns relating to dates"
   ]
  },
  {
   "cell_type": "code",
   "execution_count": 20,
   "id": "197762cd",
   "metadata": {},
   "outputs": [
    {
     "data": {
      "image/png": "[encoded data removed]",
      "text/plain": [
       "<Figure size 1440x1080 with 4 Axes>"
      ]
     },
     "metadata": {
      "needs_background": "light"
     },
     "output_type": "display_data"
    }
   ],
   "source": [
    "#checking outliers in numerical data\n",
    "fig, axs = plt.subplots(2,2, figsize=(20,15))\n",
    "\n",
    "axs[0, 0].boxplot(df['rental_duration'])\n",
    "axs[0, 1].boxplot(df['rental_rate'])\n",
    "axs[1, 0].boxplot(df['length'])\n",
    "axs[1, 1].boxplot(df['replacement_cost'])\n",
    "\n",
    "\n",
    "axs[0, 0].title.set_text('rental_duration')\n",
    "axs[0, 1].title.set_text('rental_rate')\n",
    "axs[1, 0].title.set_text('length')\n",
    "axs[1, 1].title.set_text('replacement_cost')\n",
    "\n",
    "plt.show()"
   ]
  },
  {
   "cell_type": "markdown",
   "id": "d046e8b2",
   "metadata": {},
   "source": [
    "There are no outliers in data. So we let it as it is."
   ]
  },
  {
   "cell_type": "code",
   "execution_count": 21,
   "id": "97fde9df",
   "metadata": {},
   "outputs": [
    {
     "data": {
      "text/html": [
       "<div>\n",
       "<style scoped>\n",
       "    .dataframe tbody tr th:only-of-type {\n",
       "        vertical-align: middle;\n",
       "    }\n",
       "\n",
       "    .dataframe tbody tr th {\n",
       "        vertical-align: top;\n",
       "    }\n",
       "\n",
       "    .dataframe thead th {\n",
       "        text-align: right;\n",
       "    }\n",
       "</style>\n",
       "<table border=\"1\" class=\"dataframe\">\n",
       "  <thead>\n",
       "    <tr style=\"text-align: right;\">\n",
       "      <th></th>\n",
       "      <th>rental_duration</th>\n",
       "      <th>rental_rate</th>\n",
       "      <th>length</th>\n",
       "      <th>replacement_cost</th>\n",
       "      <th>amount</th>\n",
       "      <th>june_rentals</th>\n",
       "    </tr>\n",
       "  </thead>\n",
       "  <tbody>\n",
       "    <tr>\n",
       "      <th>count</th>\n",
       "      <td>16055.000000</td>\n",
       "      <td>16055.000000</td>\n",
       "      <td>16055.000000</td>\n",
       "      <td>16055.000000</td>\n",
       "      <td>16055.000000</td>\n",
       "      <td>16055.000000</td>\n",
       "    </tr>\n",
       "    <tr>\n",
       "      <th>mean</th>\n",
       "      <td>4.936219</td>\n",
       "      <td>2.941292</td>\n",
       "      <td>114.951230</td>\n",
       "      <td>20.215973</td>\n",
       "      <td>4.199156</td>\n",
       "      <td>0.856057</td>\n",
       "    </tr>\n",
       "    <tr>\n",
       "      <th>std</th>\n",
       "      <td>1.401486</td>\n",
       "      <td>1.649904</td>\n",
       "      <td>40.095773</td>\n",
       "      <td>6.079721</td>\n",
       "      <td>2.363645</td>\n",
       "      <td>0.351043</td>\n",
       "    </tr>\n",
       "    <tr>\n",
       "      <th>min</th>\n",
       "      <td>3.000000</td>\n",
       "      <td>0.990000</td>\n",
       "      <td>46.000000</td>\n",
       "      <td>9.990000</td>\n",
       "      <td>0.000000</td>\n",
       "      <td>0.000000</td>\n",
       "    </tr>\n",
       "    <tr>\n",
       "      <th>25%</th>\n",
       "      <td>4.000000</td>\n",
       "      <td>0.990000</td>\n",
       "      <td>81.000000</td>\n",
       "      <td>14.990000</td>\n",
       "      <td>2.990000</td>\n",
       "      <td>1.000000</td>\n",
       "    </tr>\n",
       "    <tr>\n",
       "      <th>50%</th>\n",
       "      <td>5.000000</td>\n",
       "      <td>2.990000</td>\n",
       "      <td>113.000000</td>\n",
       "      <td>20.990000</td>\n",
       "      <td>3.990000</td>\n",
       "      <td>1.000000</td>\n",
       "    </tr>\n",
       "    <tr>\n",
       "      <th>75%</th>\n",
       "      <td>6.000000</td>\n",
       "      <td>4.990000</td>\n",
       "      <td>148.000000</td>\n",
       "      <td>25.990000</td>\n",
       "      <td>4.990000</td>\n",
       "      <td>1.000000</td>\n",
       "    </tr>\n",
       "    <tr>\n",
       "      <th>max</th>\n",
       "      <td>7.000000</td>\n",
       "      <td>4.990000</td>\n",
       "      <td>185.000000</td>\n",
       "      <td>29.990000</td>\n",
       "      <td>11.990000</td>\n",
       "      <td>1.000000</td>\n",
       "    </tr>\n",
       "  </tbody>\n",
       "</table>\n",
       "</div>"
      ],
      "text/plain": [
       "       rental_duration   rental_rate        length  replacement_cost  \\\n",
       "count     16055.000000  16055.000000  16055.000000      16055.000000   \n",
       "mean          4.936219      2.941292    114.951230         20.215973   \n",
       "std           1.401486      1.649904     40.095773          6.079721   \n",
       "min           3.000000      0.990000     46.000000          9.990000   \n",
       "25%           4.000000      0.990000     81.000000         14.990000   \n",
       "50%           5.000000      2.990000    113.000000         20.990000   \n",
       "75%           6.000000      4.990000    148.000000         25.990000   \n",
       "max           7.000000      4.990000    185.000000         29.990000   \n",
       "\n",
       "             amount  june_rentals  \n",
       "count  16055.000000  16055.000000  \n",
       "mean       4.199156      0.856057  \n",
       "std        2.363645      0.351043  \n",
       "min        0.000000      0.000000  \n",
       "25%        2.990000      1.000000  \n",
       "50%        3.990000      1.000000  \n",
       "75%        4.990000      1.000000  \n",
       "max       11.990000      1.000000  "
      ]
     },
     "execution_count": 21,
     "metadata": {},
     "output_type": "execute_result"
    }
   ],
   "source": [
    "df.describe()"
   ]
  },
  {
   "cell_type": "markdown",
   "id": "b8bd6f53",
   "metadata": {},
   "source": [
    "### Random Forest "
   ]
  },
  {
   "cell_type": "markdown",
   "id": "8278bec6",
   "metadata": {},
   "source": [
    "We will first try to apply Random Forest, if it performs better then we will stick with it. "
   ]
  },
  {
   "cell_type": "code",
   "execution_count": 22,
   "id": "087fd331",
   "metadata": {},
   "outputs": [],
   "source": [
    "# separate target variable Y from features X\n",
    "# defining dataset\n",
    "\n",
    "features_list = ['title', 'rental_duration','rental_rate','replacement_cost','length', 'rating','amount', 'category']\n",
    "\n",
    "X = df.loc[:, features_list]\n",
    "y = df.loc[:, \"june_rentals\"]\n",
    "\n",
    "# Train Test Split\n",
    "X_train,X_test,y_train,y_test = train_test_split(X,y, test_size = 0.33, random_state = 0)\n",
    "\n",
    "from sklearn.preprocessing import OneHotEncoder\n",
    "\n",
    "# By default, OneHotEncoder errors if it sees unknown categories in the test data\n",
    "# we will overwrite this behavior by specifying handle_unknown='ignore'\n",
    "# also OneHotEncoder by default outputs scipy sparse matrices, which are more efficient but cumbersome\n",
    "# we disable that with sparse=False\n",
    "\n",
    "ohe = OneHotEncoder(handle_unknown='ignore', sparse=False)\n",
    "ohe.fit(X_train)\n",
    "# apply one-hot encoding to both training and test set\n",
    "\n",
    "X_train = ohe.fit_transform(X_train)\n",
    "X_test = ohe.transform(X_test)\n"
   ]
  },
  {
   "cell_type": "code",
   "execution_count": 23,
   "id": "95aa2c6b",
   "metadata": {},
   "outputs": [],
   "source": [
    "#cols = X_train.columns"
   ]
  },
  {
   "cell_type": "code",
   "execution_count": 24,
   "id": "e63963a7",
   "metadata": {},
   "outputs": [
    {
     "name": "stdout",
     "output_type": "stream",
     "text": [
      "Train Score : 0.8773707698029007\n",
      "Test Score : 0.827514625401019\n",
      "              precision    recall  f1-score   support\n",
      "\n",
      "         0.0       0.83      0.20      0.33      1571\n",
      "         1.0       0.88      0.99      0.93      9185\n",
      "\n",
      "    accuracy                           0.88     10756\n",
      "   macro avg       0.85      0.60      0.63     10756\n",
      "weighted avg       0.87      0.88      0.84     10756\n",
      "\n",
      "              precision    recall  f1-score   support\n",
      "\n",
      "         0.0       0.09      0.03      0.04       740\n",
      "         1.0       0.86      0.96      0.91      4559\n",
      "\n",
      "    accuracy                           0.83      5299\n",
      "   macro avg       0.47      0.49      0.47      5299\n",
      "weighted avg       0.75      0.83      0.78      5299\n",
      "\n"
     ]
    }
   ],
   "source": [
    "\n",
    "from sklearn.ensemble import RandomForestClassifier\n",
    "from sklearn.feature_selection import SelectFromModel\n",
    "\n",
    "classifier = RandomForestClassifier(n_estimators=100, random_state =0)\n",
    "classifier.fit(X_train, y_train)\n",
    "\n",
    "print(\"Train Score : {}\".format(classifier.score(X_train, y_train)))\n",
    "print('Test Score : {}'.format(classifier.score(X_test, y_test)))\n",
    "\n",
    "pred_train =classifier.predict(X_train)\n",
    "pred_test = classifier.predict(X_test)\n",
    "\n",
    "from sklearn.metrics import classification_report\n",
    "print(classification_report(y_train, pred_train))\n",
    "print(classification_report(y_test, pred_test))\n",
    "\n",
    "# Confusion matrix\n",
    "from sklearn.metrics import confusion_matrix\n",
    "cm_train = confusion_matrix(y_train, classifier.predict(X_train))\n",
    "cm_test = confusion_matrix(y_test, classifier.predict(X_test))\n"
   ]
  },
  {
   "cell_type": "markdown",
   "id": "35308971",
   "metadata": {},
   "source": [
    "1. Model is predicting very well, accuracy is more than 80% for both train and test set. But it is slightly underfitting.\n",
    "2. The classification report shows that model can't distinguish b/w two classes very well. High accuracy score is due to high class 1. But for train data the precision is good for both 1 and 0 class as opposite to test data.\n",
    "3. Due to highly imbalance data model is unable to predict minority class(0) which is rentals made in month of June.\n",
    "\n",
    "We will now check more simpler model for it."
   ]
  },
  {
   "cell_type": "markdown",
   "id": "1f4c552c",
   "metadata": {},
   "source": [
    "### Logistic Regression"
   ]
  },
  {
   "cell_type": "code",
   "execution_count": 25,
   "id": "7c9b644b",
   "metadata": {},
   "outputs": [
    {
     "name": "stdout",
     "output_type": "stream",
     "text": [
      "Train Score : 0.8539419858683526\n",
      "Test Score : 0.8603510096244574\n",
      "              precision    recall  f1-score   support\n",
      "\n",
      "         0.0       0.00      0.00      0.00       740\n",
      "         1.0       0.86      1.00      0.92      4559\n",
      "\n",
      "    accuracy                           0.86      5299\n",
      "   macro avg       0.43      0.50      0.46      5299\n",
      "weighted avg       0.74      0.86      0.80      5299\n",
      "\n",
      "              precision    recall  f1-score   support\n",
      "\n",
      "         0.0       0.00      0.00      0.00      1571\n",
      "         1.0       0.85      1.00      0.92      9185\n",
      "\n",
      "    accuracy                           0.85     10756\n",
      "   macro avg       0.43      0.50      0.46     10756\n",
      "weighted avg       0.73      0.85      0.79     10756\n",
      "\n"
     ]
    },
    {
     "name": "stderr",
     "output_type": "stream",
     "text": [
      "C:\\Users\\s_sad\\AppData\\Roaming\\Python\\Python39\\site-packages\\sklearn\\linear_model\\_logistic.py:444: ConvergenceWarning: lbfgs failed to converge (status=1):\n",
      "STOP: TOTAL NO. of ITERATIONS REACHED LIMIT.\n",
      "\n",
      "Increase the number of iterations (max_iter) or scale the data as shown in:\n",
      "    https://scikit-learn.org/stable/modules/preprocessing.html\n",
      "Please also refer to the documentation for alternative solver options:\n",
      "    https://scikit-learn.org/stable/modules/linear_model.html#logistic-regression\n",
      "  n_iter_i = _check_optimize_result(\n",
      "C:\\Users\\s_sad\\AppData\\Roaming\\Python\\Python39\\site-packages\\sklearn\\metrics\\_classification.py:1334: UndefinedMetricWarning: Precision and F-score are ill-defined and being set to 0.0 in labels with no predicted samples. Use `zero_division` parameter to control this behavior.\n",
      "  _warn_prf(average, modifier, msg_start, len(result))\n",
      "C:\\Users\\s_sad\\AppData\\Roaming\\Python\\Python39\\site-packages\\sklearn\\metrics\\_classification.py:1334: UndefinedMetricWarning: Precision and F-score are ill-defined and being set to 0.0 in labels with no predicted samples. Use `zero_division` parameter to control this behavior.\n",
      "  _warn_prf(average, modifier, msg_start, len(result))\n",
      "C:\\Users\\s_sad\\AppData\\Roaming\\Python\\Python39\\site-packages\\sklearn\\metrics\\_classification.py:1334: UndefinedMetricWarning: Precision and F-score are ill-defined and being set to 0.0 in labels with no predicted samples. Use `zero_division` parameter to control this behavior.\n",
      "  _warn_prf(average, modifier, msg_start, len(result))\n",
      "C:\\Users\\s_sad\\AppData\\Roaming\\Python\\Python39\\site-packages\\sklearn\\metrics\\_classification.py:1334: UndefinedMetricWarning: Precision and F-score are ill-defined and being set to 0.0 in labels with no predicted samples. Use `zero_division` parameter to control this behavior.\n",
      "  _warn_prf(average, modifier, msg_start, len(result))\n",
      "C:\\Users\\s_sad\\AppData\\Roaming\\Python\\Python39\\site-packages\\sklearn\\metrics\\_classification.py:1334: UndefinedMetricWarning: Precision and F-score are ill-defined and being set to 0.0 in labels with no predicted samples. Use `zero_division` parameter to control this behavior.\n",
      "  _warn_prf(average, modifier, msg_start, len(result))\n",
      "C:\\Users\\s_sad\\AppData\\Roaming\\Python\\Python39\\site-packages\\sklearn\\metrics\\_classification.py:1334: UndefinedMetricWarning: Precision and F-score are ill-defined and being set to 0.0 in labels with no predicted samples. Use `zero_division` parameter to control this behavior.\n",
      "  _warn_prf(average, modifier, msg_start, len(result))\n"
     ]
    }
   ],
   "source": [
    "# separate target variable Y from features X\n",
    "features_list = ['title', 'rental_duration','rental_rate', 'replacement_cost', 'rating','amount', 'category','length']\n",
    "X = df.loc[:, features_list]\n",
    "y = df.loc[:, \"june_rentals\"]\n",
    "\n",
    "\n",
    "# splitting dataset into train and test set\n",
    "X_train,X_test,y_train,y_test = train_test_split(X,y,test_size=0.33, random_state = 0)\n",
    "\n",
    "# Encoding categorical features and standardizing numeric features\n",
    "## First let's import libraries\n",
    "## StandardScaler to scale data (i.e apply Z-score)\n",
    "## OneHotEncoder to encode categorical variables\n",
    "\n",
    "numeric_features =[1,2,3,5,7]# Choose which column index we are going to scale\n",
    "categorical_features = [0,4,6]\n",
    "\n",
    "categorical_transformer = OneHotEncoder()\n",
    "numeric_transformer = StandardScaler()\n",
    "\n",
    "feature_encoder = ColumnTransformer (\n",
    "  transformers = [              \n",
    "      (\"catel\", categorical_transformer, categorical_features), # to categorical this object applies OneHotEncoder\n",
    "       (\"num\", numeric_transformer, numeric_features),# to numerical we apply the Standard Scaler\n",
    "  ])\n",
    "# applying transfomer \n",
    "X_train = feature_encoder.fit_transform(X_train)\n",
    "X_test = feature_encoder.transform(X_test)\n",
    "\n",
    "# Model application\n",
    "model= LogisticRegression()\n",
    "model.fit(X_train, y_train)\n",
    "\n",
    "print(\"Train Score : {}\".format(model.score(X_train, y_train)))\n",
    "print('Test Score : {}'.format(model.score(X_test, y_test)))\n",
    "\n",
    "# classification report\n",
    "pred_train = model.predict(X_train)\n",
    "pred_test = model.predict(X_test)\n",
    "print(classification_report(y_test, pred_test))\n",
    "print(classification_report(y_train, pred_train))"
   ]
  },
  {
   "cell_type": "markdown",
   "id": "058b632c",
   "metadata": {},
   "source": [
    "Here again, we have same conclusion as for random forest.\n",
    "1. Overall, model is predicting very well, train and test set both have and accuracy of 85%.\n",
    "2. The classification report shows that model is only predicting class 1 which is rentals not made in month of June. \n",
    "3. Due to highly imbalance data model is unable to predict minority class(0) which is rentals made in month of June."
   ]
  },
  {
   "cell_type": "markdown",
   "id": "f8300125",
   "metadata": {},
   "source": [
    "### Random Undersampling (Logistic Regression) - Model Improvement "
   ]
  },
  {
   "cell_type": "code",
   "execution_count": 26,
   "id": "c102bd6d",
   "metadata": {},
   "outputs": [
    {
     "name": "stdout",
     "output_type": "stream",
     "text": [
      "Counter({1.0: 13744, 0.0: 2311})\n",
      "Counter({0.0: 1571, 1.0: 1571})\n",
      "accuracy on train set: 0.6779121578612349\n",
      "accuracy on test set: 0.4483864880166069\n",
      "f1 score on train set: 0.6783216783216782\n",
      "f1 score on test set: 0.585213566056478\n",
      "              precision    recall  f1-score   support\n",
      "\n",
      "         0.0       0.68      0.68      0.68      1571\n",
      "         1.0       0.68      0.68      0.68      1571\n",
      "\n",
      "    accuracy                           0.68      3142\n",
      "   macro avg       0.68      0.68      0.68      3142\n",
      "weighted avg       0.68      0.68      0.68      3142\n",
      "\n",
      "              precision    recall  f1-score   support\n",
      "\n",
      "         0.0       0.11      0.42      0.18       740\n",
      "         1.0       0.83      0.45      0.59      4559\n",
      "\n",
      "    accuracy                           0.45      5299\n",
      "   macro avg       0.47      0.44      0.38      5299\n",
      "weighted avg       0.73      0.45      0.53      5299\n",
      "\n"
     ]
    }
   ],
   "source": [
    "from collections import Counter\n",
    "from sklearn.datasets import make_classification\n",
    "from imblearn.over_sampling import RandomOverSampler\n",
    "from imblearn.under_sampling import RandomUnderSampler\n",
    "from sklearn.metrics import accuracy_score\n",
    "from sklearn.metrics import f1_score\n",
    "\n",
    "# summarize class distribution\n",
    "print(Counter(y))\n",
    "# define oversampling strategy\n",
    "under = RandomUnderSampler()\n",
    "# fit and apply the transform\n",
    "X_train_under,y_train_under = under.fit_resample(X_train,y_train)\n",
    "# summarize class distribution\n",
    "print(Counter(y_train_under))\n",
    "\n",
    "# apply model\n",
    "model = LogisticRegression()\n",
    "model.fit(X_train_under, y_train_under)\n",
    "\n",
    "# predictions on train and test set\n",
    "pred_train_under = model.predict(X_train_under)\n",
    "pred_test_under = model.predict(X_test)\n",
    "\n",
    "# printing model accuracy\n",
    "print(\"accuracy on train set:\",accuracy_score(y_train_under,pred_train_under))\n",
    "print(\"accuracy on test set:\",accuracy_score(y_test,pred_test_under))\n",
    "\n",
    "print(\"f1 score on train set:\",f1_score(y_train_under,pred_train_under))\n",
    "print(\"f1 score on test set:\",f1_score(y_test,pred_test_under))\n",
    "\n",
    "\n",
    "# print classification report\n",
    "print(classification_report(y_train_under, pred_train_under))\n",
    "print(classification_report(y_test, pred_test_under))"
   ]
  },
  {
   "cell_type": "markdown",
   "id": "f96376f4",
   "metadata": {},
   "source": [
    "Model is overfitting."
   ]
  },
  {
   "cell_type": "markdown",
   "id": "8ade567b",
   "metadata": {},
   "source": [
    "### Random Oversampling (Logistic Regression) - Model Improvement "
   ]
  },
  {
   "cell_type": "code",
   "execution_count": 27,
   "id": "0a34bcf3",
   "metadata": {},
   "outputs": [
    {
     "name": "stdout",
     "output_type": "stream",
     "text": [
      "Counter({1.0: 13744, 0.0: 2311})\n",
      "Counter({0.0: 9185, 1.0: 9185})\n",
      "accuracy on train set: 0.634512792596625\n",
      "accuracy on test set: 0.4949990564257407\n",
      "f1 score on train set: 0.6102403343782654\n",
      "f1 score on test set: 0.6441489361702128\n",
      "              precision    recall  f1-score   support\n",
      "\n",
      "         0.0       0.62      0.70      0.66      9185\n",
      "         1.0       0.65      0.57      0.61      9185\n",
      "\n",
      "    accuracy                           0.63     18370\n",
      "   macro avg       0.64      0.63      0.63     18370\n",
      "weighted avg       0.64      0.63      0.63     18370\n",
      "\n",
      "              precision    recall  f1-score   support\n",
      "\n",
      "         0.0       0.09      0.27      0.13       740\n",
      "         1.0       0.82      0.53      0.64      4559\n",
      "\n",
      "    accuracy                           0.49      5299\n",
      "   macro avg       0.45      0.40      0.39      5299\n",
      "weighted avg       0.72      0.49      0.57      5299\n",
      "\n"
     ]
    },
    {
     "name": "stderr",
     "output_type": "stream",
     "text": [
      "C:\\Users\\s_sad\\AppData\\Roaming\\Python\\Python39\\site-packages\\sklearn\\linear_model\\_logistic.py:444: ConvergenceWarning: lbfgs failed to converge (status=1):\n",
      "STOP: TOTAL NO. of ITERATIONS REACHED LIMIT.\n",
      "\n",
      "Increase the number of iterations (max_iter) or scale the data as shown in:\n",
      "    https://scikit-learn.org/stable/modules/preprocessing.html\n",
      "Please also refer to the documentation for alternative solver options:\n",
      "    https://scikit-learn.org/stable/modules/linear_model.html#logistic-regression\n",
      "  n_iter_i = _check_optimize_result(\n"
     ]
    }
   ],
   "source": [
    "\n",
    "\n",
    "# summarize class distribution\n",
    "print(Counter(y))\n",
    "# define oversampling strategy\n",
    "over = RandomOverSampler()\n",
    "# fit and apply the transform\n",
    "X_train_over,y_train_over = over.fit_resample(X_train,y_train)\n",
    "# summarize class distribution\n",
    "print(Counter(y_train_over))\n",
    "\n",
    "# apply model\n",
    "model = LogisticRegression()\n",
    "model.fit(X_train_over, y_train_over)\n",
    "\n",
    "# predictions on train and test set\n",
    "pred_train_over = model.predict(X_train_over)\n",
    "pred_test_over = model.predict(X_test)\n",
    "\n",
    "# printing model accuracy\n",
    "print(\"accuracy on train set:\",accuracy_score(y_train_over,pred_train_over))\n",
    "print(\"accuracy on test set:\",accuracy_score(y_test,pred_test_over))\n",
    "\n",
    "print(\"f1 score on train set:\",f1_score(y_train_over,pred_train_over))\n",
    "print(\"f1 score on test set:\",f1_score(y_test,pred_test_over))\n",
    "\n",
    "# print classification report\n",
    "print(classification_report(y_train_over, pred_train_over))\n",
    "print(classification_report(y_test, pred_test_over))\n"
   ]
  },
  {
   "cell_type": "markdown",
   "id": "8b22052a",
   "metadata": {},
   "source": [
    "For Train Set:\n",
    "Model is overfitting obvious from accuracy score.\n",
    "1. Out of all the rentals that the model predicted for month of june, 62% were actually made.(precision)\n",
    "2. Out of all the rentals in june that actually occured, the model predicted this outcome correctly for 69% of those rentals (recall).\n",
    "3. F1 Score: This value is calculated as:\n",
    "F1 Score: 2 * (Precision * Recall) / (Precision + Recall)\n",
    "Since this value is closer to 1, it tells us that the model does a good job of predicting whether or not rentals will be made.\n",
    "\n",
    "For Test Set:\n",
    "1. Out of all the rentals that the model predicted, only 0.09% were actually made in june.(precision)\n",
    "2. Out of all the rentals that were actuallly done, the model predicted this outcome correctly for 30% of those rentals.\n",
    "3. Since this value is  0.63, it tells us that the model is doing a good job of predicting whether or not rentals will be made.\n",
    "\n",
    "So we can conclude that, after applying random oversampling model is performing better than before but still needs further improvement, as it is not performing very well for test set. \n",
    "\n",
    "The previous model with rentals made in August has achieved better scores after applying over and under sampling techniques but here overfitting is introduced. But this model is more closer to reality in the sense that data is less imbalance, and more observation are real and not generated randomly by machine.  \n"
   ]
  },
  {
   "cell_type": "markdown",
   "id": "7a056f81",
   "metadata": {},
   "source": []
  },
  {
   "cell_type": "code",
   "execution_count": null,
   "id": "d9893c2c",
   "metadata": {},
   "outputs": [],
   "source": []
  },
  {
   "cell_type": "code",
   "execution_count": null,
   "id": "39ace338",
   "metadata": {},
   "outputs": [],
   "source": []
  }
 ],
 "metadata": {
  "kernelspec": {
   "display_name": "Python 3 (ipykernel)",
   "language": "python",
   "name": "python3"
  },
  "language_info": {
   "codemirror_mode": {
    "name": "ipython",
    "version": 3
   },
   "file_extension": ".py",
   "mimetype": "text/x-python",
   "name": "python",
   "nbconvert_exporter": "python",
   "pygments_lexer": "ipython3",
   "version": "3.9.12"
  }
 },
 "nbformat": 4,
 "nbformat_minor": 5
}
